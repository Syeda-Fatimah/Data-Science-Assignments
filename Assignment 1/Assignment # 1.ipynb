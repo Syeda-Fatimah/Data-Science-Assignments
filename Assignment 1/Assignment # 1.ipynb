{
 "cells": [
  {
   "cell_type": "code",
   "execution_count": 1,
   "id": "19693602",
   "metadata": {},
   "outputs": [
    {
     "name": "stdout",
     "output_type": "stream",
     "text": [
      "Twinkle, twinkle, little star, \n",
      "\tHow I wonder what you are! \n",
      "\t\tUp above the world so high, \n",
      "\t\tLike a diamond in the sky. \n",
      "Twinkle, twinkle, little star, \n",
      "\tHow I wonder what you are!\n"
     ]
    }
   ],
   "source": [
    "#Write a python program to print string in a format:\n",
    "print(\"Twinkle, twinkle, little star, \\n\\tHow I wonder what you are! \\n\\t\\tUp above the world so high, \\n\\t\\tLike a diamond in the sky. \\nTwinkle, twinkle, little star, \\n\\tHow I wonder what you are!\")\n"
   ]
  },
  {
   "cell_type": "code",
   "execution_count": 2,
   "id": "ddcfcdc4",
   "metadata": {},
   "outputs": [
    {
     "name": "stdout",
     "output_type": "stream",
     "text": [
      "3.8.8 (default, Apr 13 2021, 15:08:03) [MSC v.1916 64 bit (AMD64)]\n"
     ]
    }
   ],
   "source": [
    " # write a python program to get a python version you are using\n",
    "import sys\n",
    "print (sys.version)"
   ]
  },
  {
   "cell_type": "code",
   "execution_count": 5,
   "id": "8ecb8363",
   "metadata": {},
   "outputs": [
    {
     "name": "stdout",
     "output_type": "stream",
     "text": [
      "2022-01-01 04:06:28.050520\n"
     ]
    }
   ],
   "source": [
    "#write a python program to display the current date and time\n",
    "from datetime import datetime\n",
    "current = datetime.now()\n",
    "print(current)"
   ]
  },
  {
   "cell_type": "code",
   "execution_count": 8,
   "id": "4294908d",
   "metadata": {},
   "outputs": [
    {
     "name": "stdout",
     "output_type": "stream",
     "text": [
      "Enter the radius of the circle : 2\n",
      "The area of the circle is: 12.566370614359172\n"
     ]
    }
   ],
   "source": [
    "#write a python program which accepts the radius of a circle from the user and compute the area\n",
    "from math import pi\n",
    "radius = float(input (\"Enter the radius of the circle : \"))\n",
    "print (\"The area of the circle is: \" + str(pi * radius**2))"
   ]
  },
  {
   "cell_type": "code",
   "execution_count": 7,
   "id": "a3025c7c",
   "metadata": {},
   "outputs": [
    {
     "name": "stdout",
     "output_type": "stream",
     "text": [
      "Enter your First Name : syeda\n",
      "Enter your Last Name : fatima\n",
      "fatima syeda\n"
     ]
    }
   ],
   "source": [
    "#write a python program which accepts the user first and last name and print them in reverse order with a space btween them.\n",
    "first_name = input(\"Enter your First Name : \")\n",
    "last_name = input(\"Enter your Last Name : \")\n",
    "print (last_name + \" \" + first_name)"
   ]
  },
  {
   "cell_type": "code",
   "execution_count": 10,
   "id": "1f67a694",
   "metadata": {},
   "outputs": [
    {
     "name": "stdout",
     "output_type": "stream",
     "text": [
      "Enter First number: 2\n",
      "Enter second number: 4\n",
      "The addition is 6\n"
     ]
    }
   ],
   "source": [
    "#write a python program which takes two inputs from user and print them addition\n",
    "num1 = int(input(\"Enter First number: \"))\n",
    "num2 = int(input(\"Enter second number: \"))\n",
    "\n",
    "addition = num1 + num2\n",
    "\n",
    "# Display the sum\n",
    "print('The addition is {0}'.format(addition))"
   ]
  },
  {
   "cell_type": "code",
   "execution_count": null,
   "id": "4500fdc2",
   "metadata": {},
   "outputs": [],
   "source": []
  }
 ],
 "metadata": {
  "kernelspec": {
   "display_name": "Python 3",
   "language": "python",
   "name": "python3"
  },
  "language_info": {
   "codemirror_mode": {
    "name": "ipython",
    "version": 3
   },
   "file_extension": ".py",
   "mimetype": "text/x-python",
   "name": "python",
   "nbconvert_exporter": "python",
   "pygments_lexer": "ipython3",
   "version": "3.8.8"
  }
 },
 "nbformat": 4,
 "nbformat_minor": 5
}
